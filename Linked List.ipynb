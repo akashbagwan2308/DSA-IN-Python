{
 "cells": [
  {
   "cell_type": "markdown",
   "id": "b372a7ce",
   "metadata": {},
   "source": [
    "# Linked List"
   ]
  },
  {
   "attachments": {
    "Screenshot%202023-05-04%20131932.png": {
     "image/png": "[encoded data removed]"
    }
   },
   "cell_type": "markdown",
   "id": "6ce2ea1e",
   "metadata": {},
   "source": [
    "![Screenshot%202023-05-04%20131932.png](attachment:Screenshot%202023-05-04%20131932.png)"
   ]
  },
  {
   "cell_type": "code",
   "execution_count": 1,
   "id": "1e5ef22c",
   "metadata": {},
   "outputs": [],
   "source": [
    "class Node:\n",
    "    def __init__(self,data):\n",
    "        self.data = data\n",
    "        self.next = None\n",
    "        "
   ]
  },
  {
   "cell_type": "code",
   "execution_count": 2,
   "id": "3e89a46a",
   "metadata": {},
   "outputs": [
    {
     "name": "stdout",
     "output_type": "stream",
     "text": [
      "13\n",
      "15\n",
      "<__main__.Node object at 0x000002B532D40390>\n",
      "<__main__.Node object at 0x000002B532D42290>\n",
      "<__main__.Node object at 0x000002B532D42290>\n",
      "None\n"
     ]
    }
   ],
   "source": [
    "a = Node(13)\n",
    "b = Node(15)\n",
    "a.next = b\n",
    "print(a.data)\n",
    "print(b.data)\n",
    "print(a)\n",
    "print(a.next)\n",
    "print(b)\n",
    "print(a.next.next)"
   ]
  },
  {
   "cell_type": "markdown",
   "id": "221f762b",
   "metadata": {},
   "source": [
    "**Input to linked List : --**  "
   ]
  },
  {
   "cell_type": "code",
   "execution_count": 3,
   "id": "920bef81",
   "metadata": {},
   "outputs": [],
   "source": [
    "def takeinput():\n",
    "    inputlist = [int(ele) for ele in input().split()]\n",
    "    head = None\n",
    "    for currentdata in inputlist:\n",
    "        if currentdata == -1:\n",
    "            break\n",
    "        newNode = Node(currentdata)\n",
    "        if head is None:\n",
    "            head = newNode\n",
    "        else:\n",
    "            curr = head\n",
    "            while curr.next is not None:\n",
    "                curr = curr.next\n",
    "            curr.next = newNode\n",
    "    return head"
   ]
  },
  {
   "cell_type": "code",
   "execution_count": 4,
   "id": "e3fc037b",
   "metadata": {},
   "outputs": [],
   "source": [
    "def printll(head):\n",
    "    while head is not None:\n",
    "        print(head.data, \"-> \" , end = \"\")\n",
    "        head = head.next\n",
    "    print(\"None\")\n",
    "    return"
   ]
  },
  {
   "cell_type": "code",
   "execution_count": 5,
   "id": "efe762f4",
   "metadata": {},
   "outputs": [],
   "source": [
    "# head = takeinput()\n",
    "# printll(head)"
   ]
  },
  {
   "cell_type": "markdown",
   "id": "72fd3fbc",
   "metadata": {},
   "source": [
    "**Optimized Input to Linked List**"
   ]
  },
  {
   "cell_type": "code",
   "execution_count": 6,
   "id": "e7869542",
   "metadata": {},
   "outputs": [],
   "source": [
    "def takeinput():\n",
    "    inputlist = [int(ele) for ele in input().split()]\n",
    "    head = None\n",
    "    tail = None\n",
    "    for currentdata in inputlist:\n",
    "        if currentdata == -1:\n",
    "            break\n",
    "        newNode = Node(currentdata)\n",
    "        if head is None:\n",
    "            head = newNode\n",
    "            tail = newNode\n",
    "        else: \n",
    "            tail.next = newNode\n",
    "            tail = newNode\n",
    "    return head"
   ]
  },
  {
   "cell_type": "code",
   "execution_count": 7,
   "id": "a3c05951",
   "metadata": {},
   "outputs": [],
   "source": [
    "def printll(head):\n",
    "    while head is not None:\n",
    "        print(head.data, \"-> \" , end = \"\")\n",
    "        head = head.next\n",
    "    print(\"None\")\n",
    "    return"
   ]
  },
  {
   "cell_type": "markdown",
   "id": "4d28f6af",
   "metadata": {},
   "source": [
    "**Print ith node**"
   ]
  },
  {
   "cell_type": "code",
   "execution_count": 8,
   "id": "c3c545bc",
   "metadata": {},
   "outputs": [],
   "source": [
    "def printith(head,i): # to print i th node element\n",
    "    count = 0\n",
    "    while head is not None:\n",
    "        if count == i:\n",
    "            print(head.data)\n",
    "            break\n",
    "        count = count + 1\n",
    "        head = head.next"
   ]
  },
  {
   "cell_type": "markdown",
   "id": "3a0f7f44",
   "metadata": {},
   "source": [
    "**length of LL**"
   ]
  },
  {
   "cell_type": "code",
   "execution_count": 9,
   "id": "94752649",
   "metadata": {},
   "outputs": [],
   "source": [
    "def length(head):\n",
    "    length = 0\n",
    "    while head is not None:\n",
    "        length += 1\n",
    "        head = head.next\n",
    "    return length"
   ]
  },
  {
   "cell_type": "code",
   "execution_count": 10,
   "id": "bc8687f9",
   "metadata": {},
   "outputs": [
    {
     "name": "stdout",
     "output_type": "stream",
     "text": [
      "3 4 5 2 6 1 9 -1\n",
      "3 -> 4 -> 5 -> 2 -> 6 -> 1 -> 9 -> None\n"
     ]
    }
   ],
   "source": [
    "head = takeinput()\n",
    "printll(head)"
   ]
  },
  {
   "cell_type": "code",
   "execution_count": 11,
   "id": "dffba710",
   "metadata": {
    "scrolled": true
   },
   "outputs": [
    {
     "name": "stdout",
     "output_type": "stream",
     "text": [
      "2\n"
     ]
    }
   ],
   "source": [
    "printith(head,3)"
   ]
  },
  {
   "cell_type": "code",
   "execution_count": 12,
   "id": "6390cd4d",
   "metadata": {},
   "outputs": [
    {
     "data": {
      "text/plain": [
       "7"
      ]
     },
     "execution_count": 12,
     "metadata": {},
     "output_type": "execute_result"
    }
   ],
   "source": [
    "length(head)"
   ]
  },
  {
   "cell_type": "markdown",
   "id": "5aedc646",
   "metadata": {},
   "source": [
    "**Insertion**"
   ]
  },
  {
   "cell_type": "code",
   "execution_count": 13,
   "id": "d0477734",
   "metadata": {},
   "outputs": [],
   "source": [
    "def insertat(head,i,data):\n",
    "    if i <0 or i> length(head):\n",
    "        return head\n",
    "    newNode = Node(data)\n",
    "    count = 0\n",
    "    pre = None\n",
    "    cur = head\n",
    "    while count < i:\n",
    "        pre = cur\n",
    "        cur = cur.next\n",
    "        count +=1\n",
    "    if pre is not None:\n",
    "        pre.next = newNode\n",
    "    else:\n",
    "        head = newNode\n",
    "    newNode.next = cur\n",
    "    return head"
   ]
  },
  {
   "cell_type": "code",
   "execution_count": 14,
   "id": "74779350",
   "metadata": {},
   "outputs": [],
   "source": [
    "# recursive insert in linked list\n",
    "def reinsert(head,i,data):\n",
    "    if head is None:\n",
    "        return None\n",
    "    if i == 0:\n",
    "        newNode = Node(data)\n",
    "        newNode.next = head\n",
    "        return newNode\n",
    "    smallhead = reinsert(head.next,i-1,data)\n",
    "    head.next = smallhead\n",
    "    return head"
   ]
  },
  {
   "cell_type": "markdown",
   "id": "30d2694a",
   "metadata": {},
   "source": [
    "**Deletion**"
   ]
  },
  {
   "cell_type": "code",
   "execution_count": 15,
   "id": "fe165def",
   "metadata": {},
   "outputs": [],
   "source": [
    "# recursive deletion in linked list\n",
    "def redelete(head,i):\n",
    "    if head is None:\n",
    "        return None\n",
    "    if i == 0:\n",
    "        head = head.next\n",
    "        return head\n",
    "    smallhead = redelete(head.next,i-1)\n",
    "    head.next = smallhead\n",
    "    return head"
   ]
  },
  {
   "cell_type": "code",
   "execution_count": 16,
   "id": "7d759191",
   "metadata": {},
   "outputs": [],
   "source": [
    "def deleteat(head,i):\n",
    "    if i < 0 or i > length(head):\n",
    "        return head\n",
    "    count = 0\n",
    "    pre = None\n",
    "    cur = head\n",
    "    while count < i:\n",
    "        pre = cur\n",
    "        cur = cur.next\n",
    "        count +=1\n",
    "    if pre is not None:\n",
    "        pre.next = cur.next\n",
    "    else:\n",
    "        head = head.next\n",
    "    return head"
   ]
  },
  {
   "cell_type": "code",
   "execution_count": 17,
   "id": "c20d1e90",
   "metadata": {},
   "outputs": [
    {
     "name": "stdout",
     "output_type": "stream",
     "text": [
      "3 -> 41 -> 4 -> 5 -> 2 -> 6 -> 1 -> 9 -> None\n"
     ]
    }
   ],
   "source": [
    "head = insertat(head,1,41)\n",
    "printll(head)"
   ]
  },
  {
   "cell_type": "code",
   "execution_count": 18,
   "id": "7030eac7",
   "metadata": {},
   "outputs": [
    {
     "data": {
      "text/plain": [
       "8"
      ]
     },
     "execution_count": 18,
     "metadata": {},
     "output_type": "execute_result"
    }
   ],
   "source": [
    "length(head)"
   ]
  },
  {
   "cell_type": "code",
   "execution_count": 19,
   "id": "3529b90f",
   "metadata": {},
   "outputs": [
    {
     "name": "stdout",
     "output_type": "stream",
     "text": [
      "41 -> 4 -> 5 -> 2 -> 6 -> 1 -> 9 -> None\n",
      "41 -> 4 -> 5 -> 6 -> 1 -> 9 -> None\n",
      "41 -> 4 -> 5 -> 6 -> 1 -> None\n"
     ]
    }
   ],
   "source": [
    "head = deleteat(head,0)\n",
    "printll(head)\n",
    "head = deleteat(head,3)\n",
    "printll(head)\n",
    "head = deleteat(head,5)\n",
    "printll(head)"
   ]
  },
  {
   "cell_type": "code",
   "execution_count": 20,
   "id": "9be3c696",
   "metadata": {},
   "outputs": [
    {
     "name": "stdout",
     "output_type": "stream",
     "text": [
      "3 4 5 2 6 1 9 -1\n",
      "3 -> 4 -> 5 -> 2 -> 6 -> 1 -> 9 -> None\n"
     ]
    }
   ],
   "source": [
    "head = takeinput()\n",
    "printll(head)"
   ]
  },
  {
   "cell_type": "code",
   "execution_count": 21,
   "id": "47b31fc7",
   "metadata": {},
   "outputs": [
    {
     "name": "stdout",
     "output_type": "stream",
     "text": [
      "3 -> 4 -> 5 -> 2 -> 6 -> 27 -> 1 -> 9 -> None\n"
     ]
    }
   ],
   "source": [
    "head = reinsert(head,5,27)\n",
    "printll(head)"
   ]
  },
  {
   "cell_type": "code",
   "execution_count": 22,
   "id": "5b50aa01",
   "metadata": {},
   "outputs": [
    {
     "name": "stdout",
     "output_type": "stream",
     "text": [
      "3 -> 4 -> 5 -> 2 -> 6 -> 1 -> 9 -> None\n"
     ]
    }
   ],
   "source": [
    "head = redelete(head,5)\n",
    "printll(head)"
   ]
  },
  {
   "cell_type": "markdown",
   "id": "04e24427",
   "metadata": {},
   "source": [
    "**Reverse LL**"
   ]
  },
  {
   "cell_type": "code",
   "execution_count": 23,
   "id": "b9eb1154",
   "metadata": {},
   "outputs": [],
   "source": [
    "def reverseLL(head):\n",
    "    if head is None or head.next is None:\n",
    "        return head \n",
    "    smallhead = reverseLL(head.next)\n",
    "    curr = smallhead\n",
    "    while curr.next is not None:\n",
    "        curr = curr.next\n",
    "    curr.next = head\n",
    "    head.next = None\n",
    "    return smallhead"
   ]
  },
  {
   "cell_type": "code",
   "execution_count": 24,
   "id": "25e16896",
   "metadata": {},
   "outputs": [
    {
     "name": "stdout",
     "output_type": "stream",
     "text": [
      "9 -> 1 -> 6 -> 2 -> 5 -> 4 -> 3 -> None\n"
     ]
    }
   ],
   "source": [
    "printll(reverseLL(head))"
   ]
  },
  {
   "cell_type": "markdown",
   "id": "9d9b0aaa",
   "metadata": {},
   "source": [
    "### Reverse LL in optimal way\n"
   ]
  },
  {
   "cell_type": "code",
   "execution_count": 25,
   "id": "9fd2c9fc",
   "metadata": {},
   "outputs": [],
   "source": [
    "def reversell2(head):\n",
    "    if head is None or head.next is None:\n",
    "        return head,head\n",
    "    smallhead,smalltail = reversell2(head.next)\n",
    "    smalltail.next = head\n",
    "    head.next = None\n",
    "    return smallhead,head   "
   ]
  },
  {
   "cell_type": "code",
   "execution_count": 26,
   "id": "46cfde06",
   "metadata": {},
   "outputs": [
    {
     "name": "stdout",
     "output_type": "stream",
     "text": [
      "1 2 3 4 5 6 7 8 9 -1\n",
      "1 -> 2 -> 3 -> 4 -> 5 -> 6 -> 7 -> 8 -> 9 -> None\n",
      "9 -> 8 -> 7 -> 6 -> 5 -> 4 -> 3 -> 2 -> 1 -> None\n"
     ]
    }
   ],
   "source": [
    "head = takeinput()\n",
    "printll(head)\n",
    "head,tail = reversell2(head)\n",
    "printll(head)"
   ]
  },
  {
   "cell_type": "markdown",
   "id": "d75d4bad",
   "metadata": {},
   "source": [
    "### Reverse LL in much optimal way"
   ]
  },
  {
   "cell_type": "code",
   "execution_count": 27,
   "id": "dbefb5f7",
   "metadata": {},
   "outputs": [],
   "source": [
    "def reversell3(head):\n",
    "    if head is None or head.next is None:\n",
    "        return head\n",
    "    smallhead= reversell3(head.next)\n",
    "    tail = head.next\n",
    "    tail.next = head\n",
    "    head.next = None\n",
    "    return smallhead"
   ]
  },
  {
   "cell_type": "code",
   "execution_count": 28,
   "id": "555ddb51",
   "metadata": {},
   "outputs": [
    {
     "name": "stdout",
     "output_type": "stream",
     "text": [
      "1 2 3 4 5 6 7 8 9 -1\n",
      "1 -> 2 -> 3 -> 4 -> 5 -> 6 -> 7 -> 8 -> 9 -> None\n",
      "9 -> 8 -> 7 -> 6 -> 5 -> 4 -> 3 -> 2 -> 1 -> None\n"
     ]
    }
   ],
   "source": [
    "head = takeinput()\n",
    "printll(head)\n",
    "head= reversell3(head)\n",
    "printll(head)"
   ]
  },
  {
   "cell_type": "markdown",
   "id": "cad1c512",
   "metadata": {},
   "source": [
    "### Reverse LL iteratively"
   ]
  },
  {
   "cell_type": "code",
   "execution_count": 29,
   "id": "b90bf562",
   "metadata": {},
   "outputs": [],
   "source": [
    "def reverseLL4(head):\n",
    "    pre = None\n",
    "    cur = head\n",
    "    while cur is not None:\n",
    "        nex = cur.next\n",
    "        cur.next = pre\n",
    "        pre = cur\n",
    "        cur = nex\n",
    "    return pre  "
   ]
  },
  {
   "cell_type": "code",
   "execution_count": 30,
   "id": "2f6bd66f",
   "metadata": {},
   "outputs": [
    {
     "name": "stdout",
     "output_type": "stream",
     "text": [
      "1 2 3 4 5 6 7 8 9 -1\n",
      "1 -> 2 -> 3 -> 4 -> 5 -> 6 -> 7 -> 8 -> 9 -> None\n",
      "9 -> 8 -> 7 -> 6 -> 5 -> 4 -> 3 -> 2 -> 1 -> None\n"
     ]
    }
   ],
   "source": [
    "head = takeinput()\n",
    "printll(head)\n",
    "head= reverseLL4(head)\n",
    "printll(head)"
   ]
  },
  {
   "cell_type": "markdown",
   "id": "009de32c",
   "metadata": {},
   "source": [
    "### Mid Point of LL"
   ]
  },
  {
   "cell_type": "code",
   "execution_count": 31,
   "id": "49996ecd",
   "metadata": {},
   "outputs": [],
   "source": [
    "def midPoint(head):\n",
    "    slow = head\n",
    "    fast = head\n",
    "    while fast.next != None and fast.next.next != None:\n",
    "        slow = slow.next\n",
    "        fast = fast.next.next\n",
    "    return slow.data"
   ]
  },
  {
   "cell_type": "code",
   "execution_count": 33,
   "id": "2ab849bf",
   "metadata": {},
   "outputs": [
    {
     "name": "stdout",
     "output_type": "stream",
     "text": [
      "1 2 3 4 5 6 -1\n",
      "1 -> 2 -> 3 -> 4 -> 5 -> 6 -> None\n",
      "3\n"
     ]
    }
   ],
   "source": [
    "head = takeinput()\n",
    "printll(head)\n",
    "print(midPoint(head))"
   ]
  },
  {
   "cell_type": "markdown",
   "id": "b5b1f7fc",
   "metadata": {},
   "source": [
    "### Merge Two Sorted LL"
   ]
  },
  {
   "cell_type": "code",
   "execution_count": 43,
   "id": "15cfded0",
   "metadata": {},
   "outputs": [],
   "source": [
    "def mergeLL(head1,head2):\n",
    "    head = None\n",
    "    tail = None\n",
    "    while head1 is not None and head2 is not None:\n",
    "        if head is None:\n",
    "            if head1.data < head2.data:\n",
    "                head = head1\n",
    "                tail = head1\n",
    "                head1 = head1.next\n",
    "            else :\n",
    "                head = head2\n",
    "                tail = head2\n",
    "                head2 = head2.next\n",
    "        else:\n",
    "            if head1.data < head2.data:\n",
    "                tail.next = head1\n",
    "                tail = head1\n",
    "                head1 = head1.next\n",
    "            else:\n",
    "                tail.next = head2\n",
    "                tail = head2\n",
    "                head2 = head2.next\n",
    "    if head1 is not None:\n",
    "        tail.next = head1\n",
    "        tail = head1\n",
    "    if head2 is not None:\n",
    "        tail.next = head2\n",
    "        tail = head2        \n",
    "    return head"
   ]
  },
  {
   "cell_type": "code",
   "execution_count": 49,
   "id": "3594b6a5",
   "metadata": {},
   "outputs": [
    {
     "name": "stdout",
     "output_type": "stream",
     "text": [
      "5 8 12 15 -1\n",
      "1 2 3 6 7 8 9 13 14 25 -1\n",
      "5 -> 8 -> 12 -> 15 -> None\n",
      "1 -> 2 -> 3 -> 6 -> 7 -> 8 -> 9 -> 13 -> 14 -> 25 -> None\n"
     ]
    }
   ],
   "source": [
    "head1 = takeinput()\n",
    "head2 = takeinput()\n",
    "printll(head1)\n",
    "printll(head2)"
   ]
  },
  {
   "cell_type": "code",
   "execution_count": 50,
   "id": "4cee8f09",
   "metadata": {},
   "outputs": [
    {
     "name": "stdout",
     "output_type": "stream",
     "text": [
      "1 -> 2 -> 3 -> 5 -> 6 -> 7 -> 8 -> 8 -> 9 -> 12 -> 13 -> 14 -> 15 -> 25 -> None\n"
     ]
    }
   ],
   "source": [
    "printll(mergeLL(head1,head2))"
   ]
  },
  {
   "cell_type": "markdown",
   "id": "946e0be8",
   "metadata": {},
   "source": [
    "### Merge Sort "
   ]
  },
  {
   "cell_type": "code",
   "execution_count": 120,
   "id": "72b21038",
   "metadata": {},
   "outputs": [],
   "source": [
    "def merge(head1,head2):\n",
    "    head = None\n",
    "    tail = None\n",
    "    while head1 is not None and head2 is not None:\n",
    "        if head is None:\n",
    "            if head1.data < head2.data:\n",
    "                head = head1\n",
    "                tail = head1\n",
    "                head1 = head1.next\n",
    "            else:\n",
    "                head = head2\n",
    "                tail = head2\n",
    "                head2 = head2.next\n",
    "        else:\n",
    "            if head1.data<head2.data:\n",
    "                tail.next = head1\n",
    "                tail = head1\n",
    "                head1 = head1.next\n",
    "            else:\n",
    "                tail.next = head2\n",
    "                tail = head2\n",
    "                head2 = head2.next\n",
    "    if head1 is not None:\n",
    "        tail.next = head1\n",
    "    if head2 is not None:\n",
    "        tail.next = head2\n",
    "    return head"
   ]
  },
  {
   "cell_type": "code",
   "execution_count": 129,
   "id": "dbca4f88",
   "metadata": {},
   "outputs": [],
   "source": [
    "def mergeSort(head):\n",
    "    if head is None or head.next is None:\n",
    "        return head\n",
    "    slow = head\n",
    "    fast = head\n",
    "    while fast.next != None and fast.next.next != None:\n",
    "        slow = slow.next\n",
    "        fast = fast.next.next\n",
    "    head1 = head\n",
    "    head2 = slow.next\n",
    "    slow.next = None\n",
    "    left = mergeSort(head1)\n",
    "    right = mergeSort(head2)\n",
    "    return merge(left,right)"
   ]
  },
  {
   "cell_type": "code",
   "execution_count": 130,
   "id": "3a4f40dc",
   "metadata": {},
   "outputs": [
    {
     "name": "stdout",
     "output_type": "stream",
     "text": [
      "5 1 9 4 2 6 7 3 1 12 11 25 15 99 30 -1\n",
      "5 -> 1 -> 9 -> 4 -> 2 -> 6 -> 7 -> 3 -> 1 -> 12 -> 11 -> 25 -> 15 -> 99 -> 30 -> None\n"
     ]
    }
   ],
   "source": [
    "head = takeinput()\n",
    "printll(head)"
   ]
  },
  {
   "cell_type": "code",
   "execution_count": 131,
   "id": "c5f5290e",
   "metadata": {},
   "outputs": [
    {
     "name": "stdout",
     "output_type": "stream",
     "text": [
      "1 -> 1 -> 2 -> 3 -> 4 -> 5 -> 6 -> 7 -> 9 -> 11 -> 12 -> 15 -> 25 -> 30 -> 99 -> None\n"
     ]
    }
   ],
   "source": [
    "printll(mergeSort(head))"
   ]
  },
  {
   "cell_type": "code",
   "execution_count": null,
   "id": "6f2e9305",
   "metadata": {},
   "outputs": [],
   "source": []
  },
  {
   "cell_type": "code",
   "execution_count": null,
   "id": "308ba562",
   "metadata": {},
   "outputs": [],
   "source": []
  }
 ],
 "metadata": {
  "kernelspec": {
   "display_name": "Python 3 (ipykernel)",
   "language": "python",
   "name": "python3"
  },
  "language_info": {
   "codemirror_mode": {
    "name": "ipython",
    "version": 3
   },
   "file_extension": ".py",
   "mimetype": "text/x-python",
   "name": "python",
   "nbconvert_exporter": "python",
   "pygments_lexer": "ipython3",
   "version": "3.11.1"
  }
 },
 "nbformat": 4,
 "nbformat_minor": 5
}
