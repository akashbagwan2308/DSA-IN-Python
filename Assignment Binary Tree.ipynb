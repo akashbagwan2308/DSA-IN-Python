{
 "cells": [
  {
   "cell_type": "markdown",
   "id": "8ad4d821",
   "metadata": {},
   "source": [
    "# Assignment Binary Tree "
   ]
  },
  {
   "cell_type": "code",
   "execution_count": 1,
   "id": "12fc37ac",
   "metadata": {},
   "outputs": [],
   "source": [
    "class treeNode:\n",
    "    def __init__(self,data):\n",
    "        self.data = data\n",
    "        self.left = None\n",
    "        self.right = None"
   ]
  },
  {
   "cell_type": "code",
   "execution_count": 2,
   "id": "b1d7295e",
   "metadata": {},
   "outputs": [],
   "source": [
    "def printTree(root):\n",
    "    if root is None:\n",
    "        return\n",
    "    print(root.data,end=\":\")\n",
    "    if root.left != None :\n",
    "        print(\"L\",root.left.data,end=\",\")\n",
    "    if root.right != None:\n",
    "        print(\"R\",root.right.data,end =\"\")\n",
    "    print()\n",
    "    printTree(root.left)\n",
    "    printTree(root.right)"
   ]
  },
  {
   "cell_type": "code",
   "execution_count": 3,
   "id": "49576add",
   "metadata": {},
   "outputs": [],
   "source": [
    "def treeInput():\n",
    "    rootData = int(input())\n",
    "    if rootData == -1:\n",
    "        return None\n",
    "    root = treeNode(rootData)\n",
    "    leftTree = treeInput()\n",
    "    rightTree = treeInput()\n",
    "    root.left = leftTree\n",
    "    root.right = rightTree\n",
    "    return root"
   ]
  },
  {
   "cell_type": "markdown",
   "id": "e9ec89b3",
   "metadata": {},
   "source": [
    "**Find a node** "
   ]
  },
  {
   "cell_type": "code",
   "execution_count": 4,
   "id": "f7b3ed00",
   "metadata": {},
   "outputs": [],
   "source": [
    "def findNode(root,node):\n",
    "    if root is None:\n",
    "        return False\n",
    "    if root.data == node:\n",
    "        return True\n",
    "    if findNode(root.left,node):\n",
    "        return True\n",
    "    if findNode(root.right,node):\n",
    "        return True\n",
    "    return False"
   ]
  },
  {
   "cell_type": "code",
   "execution_count": 5,
   "id": "05d14247",
   "metadata": {},
   "outputs": [
    {
     "name": "stdout",
     "output_type": "stream",
     "text": [
      "1\n",
      "2\n",
      "4\n",
      "-1\n",
      "-1\n",
      "5\n",
      "-1\n",
      "-1\n",
      "3\n",
      "6\n",
      "-1\n",
      "-1\n",
      "-1\n",
      "1:L 2,R 3\n",
      "2:L 4,R 5\n",
      "4:\n",
      "5:\n",
      "3:L 6,\n",
      "6:\n"
     ]
    }
   ],
   "source": [
    "bt = treeInput()\n",
    "printTree(bt)"
   ]
  },
  {
   "cell_type": "code",
   "execution_count": 6,
   "id": "a1cc160b",
   "metadata": {},
   "outputs": [
    {
     "name": "stdout",
     "output_type": "stream",
     "text": [
      "False\n"
     ]
    }
   ],
   "source": [
    "print(findNode(bt,11))"
   ]
  },
  {
   "cell_type": "markdown",
   "id": "c76d0a06",
   "metadata": {},
   "source": [
    "**Nodes Without Siblings**"
   ]
  },
  {
   "cell_type": "code",
   "execution_count": 7,
   "id": "db48a163",
   "metadata": {},
   "outputs": [],
   "source": [
    "def isSibling(root):\n",
    "    if root is None:\n",
    "        return \n",
    "    if root.left !=None and root.right != None:\n",
    "        isSibling(root.left)\n",
    "        isSibling(root.right)\n",
    "    elif root.left is None and root.right != None:\n",
    "        print(root.right.data,end=\" \")\n",
    "        isSibling(root.right)\n",
    "    elif root.right is None and root.left != None:\n",
    "        print(root.left.data,end=\" \")\n",
    "        isSibling(root.right)\n",
    "    return "
   ]
  },
  {
   "cell_type": "code",
   "execution_count": 8,
   "id": "946d8e38",
   "metadata": {},
   "outputs": [
    {
     "name": "stdout",
     "output_type": "stream",
     "text": [
      "6 None\n"
     ]
    }
   ],
   "source": [
    "print(isSibling(bt))"
   ]
  },
  {
   "cell_type": "markdown",
   "id": "6fd425c8",
   "metadata": {},
   "source": [
    "## Traversal - "
   ]
  },
  {
   "cell_type": "markdown",
   "id": "3caf912d",
   "metadata": {},
   "source": [
    "#### PreOrder representation : "
   ]
  },
  {
   "cell_type": "code",
   "execution_count": 14,
   "id": "ae0daffd",
   "metadata": {},
   "outputs": [],
   "source": [
    "def preOrder(root):\n",
    "    if root is None:\n",
    "        return \n",
    "    print(root.data,end = \" \")\n",
    "    preOrder(root.left)\n",
    "    preOrder(root.right)"
   ]
  },
  {
   "cell_type": "code",
   "execution_count": 15,
   "id": "078e989f",
   "metadata": {},
   "outputs": [
    {
     "name": "stdout",
     "output_type": "stream",
     "text": [
      "1 2 4 5 3 6 "
     ]
    }
   ],
   "source": [
    "preOrder(bt)"
   ]
  },
  {
   "cell_type": "markdown",
   "id": "f30ca8d2",
   "metadata": {},
   "source": [
    "#### PostOrder Representation :"
   ]
  },
  {
   "cell_type": "code",
   "execution_count": 16,
   "id": "2c5f31a5",
   "metadata": {},
   "outputs": [],
   "source": [
    "def postOrder(root):\n",
    "    if root is None:\n",
    "        return\n",
    "    postOrder(root.left)\n",
    "    postOrder(root.right)\n",
    "    print(root.data,end=\" \")"
   ]
  },
  {
   "cell_type": "code",
   "execution_count": 17,
   "id": "8ae75e16",
   "metadata": {},
   "outputs": [
    {
     "name": "stdout",
     "output_type": "stream",
     "text": [
      "4 5 2 6 3 1 "
     ]
    }
   ],
   "source": [
    "postOrder(bt)"
   ]
  },
  {
   "cell_type": "markdown",
   "id": "e7206872",
   "metadata": {},
   "source": [
    "#### Inorder Prepresentation :"
   ]
  },
  {
   "cell_type": "code",
   "execution_count": 18,
   "id": "c2a0b248",
   "metadata": {},
   "outputs": [],
   "source": [
    "def inOrder(root):\n",
    "    if root is None:\n",
    "        return\n",
    "    inOrder(root.left)\n",
    "    print(root.data,end=\" \")\n",
    "    inOrder(root.right)"
   ]
  },
  {
   "cell_type": "code",
   "execution_count": 19,
   "id": "add96e7a",
   "metadata": {},
   "outputs": [
    {
     "name": "stdout",
     "output_type": "stream",
     "text": [
      "4 2 5 1 6 3 "
     ]
    }
   ],
   "source": [
    "inOrder(bt)"
   ]
  },
  {
   "cell_type": "code",
   "execution_count": null,
   "id": "20245043",
   "metadata": {},
   "outputs": [],
   "source": []
  }
 ],
 "metadata": {
  "kernelspec": {
   "display_name": "Python 3 (ipykernel)",
   "language": "python",
   "name": "python3"
  },
  "language_info": {
   "codemirror_mode": {
    "name": "ipython",
    "version": 3
   },
   "file_extension": ".py",
   "mimetype": "text/x-python",
   "name": "python",
   "nbconvert_exporter": "python",
   "pygments_lexer": "ipython3",
   "version": "3.11.1"
  }
 },
 "nbformat": 4,
 "nbformat_minor": 5
}
