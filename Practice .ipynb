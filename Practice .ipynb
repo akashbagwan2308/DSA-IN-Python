{
 "cells": [
  {
   "cell_type": "markdown",
   "id": "5e2785da",
   "metadata": {},
   "source": [
    "# Practice - Practice - Practice "
   ]
  },
  {
   "cell_type": "markdown",
   "id": "0c2f6138",
   "metadata": {},
   "source": [
    "## Merge Sort "
   ]
  },
  {
   "cell_type": "code",
   "execution_count": 1,
   "id": "b69b898c",
   "metadata": {},
   "outputs": [],
   "source": [
    "def merge(a,a1,a2):\n",
    "    i = 0\n",
    "    j= 0\n",
    "    k=0\n",
    "    while i<len(a1)and j<len(a2):\n",
    "        if a1[i]<a2[j]:\n",
    "            a[k]=a1[i]\n",
    "            i+=1\n",
    "            k+=1\n",
    "        else:\n",
    "            a[k]=a2[j]\n",
    "            j+=1\n",
    "            k+=1\n",
    "    while i<len(a1):\n",
    "        a[k]=a1[i]\n",
    "        i+=1\n",
    "        k+=1\n",
    "    while j<len(a2):\n",
    "        a[k]=a2[j]\n",
    "        j+=1\n",
    "        k+=1\n",
    "    return a"
   ]
  },
  {
   "cell_type": "code",
   "execution_count": 2,
   "id": "343655e8",
   "metadata": {},
   "outputs": [],
   "source": [
    "def mergeSort(a):\n",
    "    if len(a)==0 or len(a)==1:\n",
    "        return \n",
    "    mid = len(a)//2\n",
    "    a1 = a[:mid]\n",
    "    a2 = a[mid:]\n",
    "    mergeSort(a1)\n",
    "    mergeSort(a2)\n",
    "    return merge(a,a1,a2)\n",
    "    "
   ]
  },
  {
   "cell_type": "code",
   "execution_count": 3,
   "id": "825db0a6",
   "metadata": {},
   "outputs": [
    {
     "data": {
      "text/plain": [
       "[1, 3, 4, 5, 6, 7, 7, 8, 9, 15, 61]"
      ]
     },
     "execution_count": 3,
     "metadata": {},
     "output_type": "execute_result"
    }
   ],
   "source": [
    "mergeSort([15,1,8,9,7,61,4,6,3,7,5])"
   ]
  },
  {
   "cell_type": "markdown",
   "id": "b88ab789",
   "metadata": {},
   "source": [
    "## Binary Search"
   ]
  },
  {
   "cell_type": "code",
   "execution_count": 4,
   "id": "a01787eb",
   "metadata": {},
   "outputs": [],
   "source": [
    "def binarySearch(a,x,si,ei):\n",
    "    if si>ei:\n",
    "        return -1\n",
    "    mid = (si+ei)//2\n",
    "    if x == a[mid]:\n",
    "        return mid\n",
    "    elif x> a[mid]:\n",
    "        return binarySearch(a,x,mid+1,ei)\n",
    "    else:\n",
    "        return binarySearch(a,x,si,mid-1)\n",
    "    "
   ]
  },
  {
   "cell_type": "code",
   "execution_count": 5,
   "id": "c78537ee",
   "metadata": {},
   "outputs": [
    {
     "name": "stdout",
     "output_type": "stream",
     "text": [
      "15 is at index 7\n"
     ]
    }
   ],
   "source": [
    "ans = binarySearch([1,3,5,7,9,11,13,15,16,17],15,0,9)\n",
    "print(f'15 is at index {ans}')"
   ]
  },
  {
   "cell_type": "markdown",
   "id": "0b9f249f",
   "metadata": {},
   "source": [
    "# Quick Sort"
   ]
  },
  {
   "cell_type": "code",
   "execution_count": 6,
   "id": "cb892be5",
   "metadata": {},
   "outputs": [],
   "source": [
    "def partition(a,si,ei):\n",
    "    pivot = a[si]\n",
    "    c = 0\n",
    "    for i in range(si,ei+1):\n",
    "        if a[i]<pivot:\n",
    "            c+=1\n",
    "    a[si+c],a[si]=a[si],a[si+c]\n",
    "    pivotIndex = si+c\n",
    "    i= si\n",
    "    j = ei\n",
    "    while i<j:\n",
    "        if a[i]<pivot:\n",
    "            i+=1\n",
    "        elif a[j]>=pivot:\n",
    "            j-=1\n",
    "        else:\n",
    "            a[i],a[j]=a[j],a[i]\n",
    "    return pivotIndex"
   ]
  },
  {
   "cell_type": "code",
   "execution_count": 7,
   "id": "254521bb",
   "metadata": {},
   "outputs": [],
   "source": [
    "def quickSort(a,si,ei):\n",
    "    if si>=ei:\n",
    "        return\n",
    "    pivotIndex= partition(a,si,ei)\n",
    "    quickSort(a,si,pivotIndex-1)\n",
    "    quickSort(a,pivotIndex+1,ei)\n",
    "    return a"
   ]
  },
  {
   "cell_type": "code",
   "execution_count": 8,
   "id": "8f990a0c",
   "metadata": {},
   "outputs": [
    {
     "data": {
      "text/plain": [
       "[1, 2, 3, 4, 6, 8, 8, 10, 15, 56, 98]"
      ]
     },
     "execution_count": 8,
     "metadata": {},
     "output_type": "execute_result"
    }
   ],
   "source": [
    "a = [ 15,10,8,4,98,2,56,8,3,6,1]\n",
    "quickSort(a,0,len(a)-1)"
   ]
  },
  {
   "cell_type": "markdown",
   "id": "e84be993",
   "metadata": {},
   "source": [
    "# Tower Of Hanoi"
   ]
  },
  {
   "cell_type": "code",
   "execution_count": 12,
   "id": "3ca0d80b",
   "metadata": {},
   "outputs": [],
   "source": [
    "def tower(n,a,b,c):\n",
    "    if n==1:\n",
    "        print(f\"move 1 st disk from {a} to {c}\")\n",
    "        return\n",
    "    tower(n-1,a,c,b)\n",
    "    print(f\"move {n}th dick from {a} to {c}\")\n",
    "    tower(n-1,b,a,c)"
   ]
  },
  {
   "cell_type": "code",
   "execution_count": 13,
   "id": "6d0c069f",
   "metadata": {},
   "outputs": [
    {
     "name": "stdout",
     "output_type": "stream",
     "text": [
      "move 1 st disk from s to h\n",
      "move 2th dick from s to d\n",
      "move 1 st disk from h to d\n"
     ]
    }
   ],
   "source": [
    "tower(2,'s','h','d')"
   ]
  },
  {
   "cell_type": "code",
   "execution_count": null,
   "id": "507ec835",
   "metadata": {},
   "outputs": [],
   "source": []
  }
 ],
 "metadata": {
  "kernelspec": {
   "display_name": "Python 3 (ipykernel)",
   "language": "python",
   "name": "python3"
  },
  "language_info": {
   "codemirror_mode": {
    "name": "ipython",
    "version": 3
   },
   "file_extension": ".py",
   "mimetype": "text/x-python",
   "name": "python",
   "nbconvert_exporter": "python",
   "pygments_lexer": "ipython3",
   "version": "3.11.1"
  }
 },
 "nbformat": 4,
 "nbformat_minor": 5
}
