{
 "cells": [
  {
   "cell_type": "markdown",
   "id": "dc0eee27",
   "metadata": {},
   "source": [
    "# DSA in Python : -- Recursion Assignment"
   ]
  },
  {
   "cell_type": "markdown",
   "id": "7e3fc1ff",
   "metadata": {},
   "source": [
    "### 1. Assignment - Geometric Sum"
   ]
  },
  {
   "cell_type": "code",
   "execution_count": 1,
   "id": "e0f222a6",
   "metadata": {},
   "outputs": [],
   "source": [
    "def gp(a,r,k):\n",
    "    if k==1:\n",
    "        return a\n",
    "    smop = gp(a,r,k-1)\n",
    "    return f'{smop},{a*r**(k-1)}'"
   ]
  },
  {
   "cell_type": "code",
   "execution_count": 2,
   "id": "67c637fc",
   "metadata": {},
   "outputs": [],
   "source": [
    "def gpSum(a):\n",
    "    if len(a)==0:\n",
    "        return 0\n",
    "    smop = gpSum(a[1:])\n",
    "    return int(a[0]) + int(smop)\n"
   ]
  },
  {
   "cell_type": "code",
   "execution_count": 3,
   "id": "d9e9cef9",
   "metadata": {},
   "outputs": [
    {
     "name": "stdout",
     "output_type": "stream",
     "text": [
      "['1', '2', '4', '8', '16']\n",
      "31\n"
     ]
    }
   ],
   "source": [
    "a = list(gp(1,2,5).split(','))\n",
    "print(gp(1,2,5)\n",
    "print(gpSum(a))"
   ]
  },
  {
   "cell_type": "markdown",
   "id": "faef3dcd",
   "metadata": {},
   "source": [
    "### 2. Assignment - Check Palindrome"
   ]
  },
  {
   "cell_type": "code",
   "execution_count": 4,
   "id": "c15dfca8",
   "metadata": {},
   "outputs": [],
   "source": [
    "def palindrome(a,si,ei):\n",
    "    if si>=ei:\n",
    "        return'true'\n",
    "    if a[si] == a[ei]:\n",
    "        return palindrome(a,si+1,ei-1)\n",
    "    else:\n",
    "        return 'false'"
   ]
  },
  {
   "cell_type": "code",
   "execution_count": 5,
   "id": "2b079443",
   "metadata": {},
   "outputs": [
    {
     "name": "stdout",
     "output_type": "stream",
     "text": [
      "true\n"
     ]
    }
   ],
   "source": [
    "a = 'areera'\n",
    "print(palindrome(a,0,len(a)-1))"
   ]
  },
  {
   "cell_type": "markdown",
   "id": "22efc2c0",
   "metadata": {},
   "source": [
    "### 3. Assignment - Sum of Digits"
   ]
  },
  {
   "cell_type": "code",
   "execution_count": 6,
   "id": "5274acea",
   "metadata": {},
   "outputs": [],
   "source": [
    "def sumD(n):\n",
    "    if n==0:\n",
    "        return 0\n",
    "    r = n%10\n",
    "    a = int(n/10)\n",
    "    smop = sumD(a)\n",
    "    return r+smop"
   ]
  },
  {
   "cell_type": "code",
   "execution_count": 7,
   "id": "be4b7445",
   "metadata": {},
   "outputs": [
    {
     "name": "stdout",
     "output_type": "stream",
     "text": [
      "11\n"
     ]
    }
   ],
   "source": [
    "print(sumD(155))"
   ]
  },
  {
   "cell_type": "markdown",
   "id": "37afd73b",
   "metadata": {},
   "source": [
    "### 4. Assignment - Multiplication"
   ]
  },
  {
   "cell_type": "code",
   "execution_count": 8,
   "id": "75a1d5a5",
   "metadata": {},
   "outputs": [],
   "source": [
    "def mul(m,n):\n",
    "    if n==0:\n",
    "        return 0\n",
    "    smop = mul(m,n-1)\n",
    "    return m+smop"
   ]
  },
  {
   "cell_type": "code",
   "execution_count": 9,
   "id": "32d2bebc",
   "metadata": {},
   "outputs": [
    {
     "name": "stdout",
     "output_type": "stream",
     "text": [
      "45\n"
     ]
    }
   ],
   "source": [
    "print(mul(3,15))"
   ]
  },
  {
   "cell_type": "markdown",
   "id": "038caf20",
   "metadata": {},
   "source": [
    "### 5. Assignment - Count zeros"
   ]
  },
  {
   "cell_type": "code",
   "execution_count": 10,
   "id": "05cab307",
   "metadata": {},
   "outputs": [],
   "source": [
    "# 5. Assignment - Count zeros\n",
    "def countZero(n):\n",
    "    if n==0:\n",
    "        return 0\n",
    "    smop  = countZero(n//10)\n",
    "    if n%10==0:\n",
    "        return 1 + smop\n",
    "    return smop"
   ]
  },
  {
   "cell_type": "code",
   "execution_count": 11,
   "id": "9d2c7c96",
   "metadata": {},
   "outputs": [
    {
     "name": "stdout",
     "output_type": "stream",
     "text": [
      "3\n"
     ]
    }
   ],
   "source": [
    "print(countZero(10010))"
   ]
  },
  {
   "cell_type": "markdown",
   "id": "a88b5758",
   "metadata": {},
   "source": [
    "### 6. Assignment - String to integer"
   ]
  },
  {
   "cell_type": "code",
   "execution_count": 12,
   "id": "2028303b",
   "metadata": {},
   "outputs": [],
   "source": [
    "def str_int(a):\n",
    "    if len(a)==1:\n",
    "        return ord(a[0])-ord('0')\n",
    "    y = str_int(a[1:])\n",
    "    x= ord(a[0])-ord('0')\n",
    "    x=x*(10**(len(a)-1))+y\n",
    "    return x"
   ]
  },
  {
   "cell_type": "code",
   "execution_count": 13,
   "id": "29be359e",
   "metadata": {},
   "outputs": [
    {
     "name": "stdout",
     "output_type": "stream",
     "text": [
      "1252\n"
     ]
    }
   ],
   "source": [
    "print(str_int('1252'))"
   ]
  },
  {
   "cell_type": "markdown",
   "id": "98853970",
   "metadata": {},
   "source": [
    "### 7. Assignment - Pairs by star"
   ]
  },
  {
   "cell_type": "code",
   "execution_count": 14,
   "id": "4764cb65",
   "metadata": {},
   "outputs": [],
   "source": [
    "def starPair(str):\n",
    "    if len(str) == 0 or len(str)==1:\n",
    "        return str\n",
    "    smallop = starPair(str[1:])\n",
    "    if str[0] == str[1]:\n",
    "        return  str[0]+'*'+ smallop\n",
    "    else:\n",
    "        return str[0] + smallop"
   ]
  },
  {
   "cell_type": "code",
   "execution_count": 15,
   "id": "2a6604f2",
   "metadata": {},
   "outputs": [
    {
     "name": "stdout",
     "output_type": "stream",
     "text": [
      "hel*lo\n"
     ]
    }
   ],
   "source": [
    "print(starPair('hello'))"
   ]
  },
  {
   "cell_type": "markdown",
   "id": "f91f998c",
   "metadata": {},
   "source": [
    "### 8. Assignment - check AB"
   ]
  },
  {
   "cell_type": "code",
   "execution_count": 16,
   "id": "4afc5932",
   "metadata": {},
   "outputs": [],
   "source": [
    "def checkStr(a):\n",
    "    if len(a)==0:\n",
    "        return True\n",
    "    if a[0]=='a':\n",
    "        if a[1]=='a' or a[1]=='b':\n",
    "            return checkStr(a[2:])\n",
    "        if a[1]==None:\n",
    "            return True\n",
    "        else:\n",
    "            return False\n",
    "    elif a[0]=='b':\n",
    "        if a[1]=='b' and a[2]==None:\n",
    "            return checkStr(a[2:])\n",
    "        elif a[1]=='b' and a[2]=='a':\n",
    "            return True\n",
    "        else:\n",
    "            return False"
   ]
  },
  {
   "cell_type": "code",
   "execution_count": 17,
   "id": "e195ca67",
   "metadata": {},
   "outputs": [
    {
     "name": "stdout",
     "output_type": "stream",
     "text": [
      "abbaab\n",
      "true\n"
     ]
    }
   ],
   "source": [
    "a =input()\n",
    "if a[0]=='a':\n",
    "    if checkStr(a[1:]):\n",
    "        print('true')\n",
    "    else:\n",
    "        print('false')\n",
    "else:\n",
    "    print('false')"
   ]
  },
  {
   "cell_type": "markdown",
   "id": "5164ea0b",
   "metadata": {},
   "source": [
    "###  9. Assignment - Stair-case"
   ]
  },
  {
   "cell_type": "code",
   "execution_count": 18,
   "id": "f245029c",
   "metadata": {},
   "outputs": [],
   "source": [
    "def staircase(n):\n",
    "    if n==0:\n",
    "        return 0\n",
    "    if n==1:\n",
    "        return 1\n",
    "    if n==2:\n",
    "        return 2\n",
    "    if n ==3:\n",
    "        return 4\n",
    "    smop = staircase(n-1)\n",
    "    smop2 = staircase(n-2)\n",
    "    smop3 = staircase(n-3)\n",
    "    return smop+smop2+smop3"
   ]
  },
  {
   "cell_type": "code",
   "execution_count": 19,
   "id": "0c6bdfba",
   "metadata": {},
   "outputs": [
    {
     "name": "stdout",
     "output_type": "stream",
     "text": [
      "7\n"
     ]
    }
   ],
   "source": [
    "print(staircase(4))"
   ]
  }
 ],
 "metadata": {
  "kernelspec": {
   "display_name": "Python 3 (ipykernel)",
   "language": "python",
   "name": "python3"
  },
  "language_info": {
   "codemirror_mode": {
    "name": "ipython",
    "version": 3
   },
   "file_extension": ".py",
   "mimetype": "text/x-python",
   "name": "python",
   "nbconvert_exporter": "python",
   "pygments_lexer": "ipython3",
   "version": "3.11.1"
  }
 },
 "nbformat": 4,
 "nbformat_minor": 5
}
