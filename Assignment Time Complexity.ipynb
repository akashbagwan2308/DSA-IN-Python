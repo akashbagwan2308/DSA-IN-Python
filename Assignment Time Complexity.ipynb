{
 "cells": [
  {
   "cell_type": "markdown",
   "id": "234a7f4e",
   "metadata": {},
   "source": [
    "# Assignment ( Time Complexity )"
   ]
  },
  {
   "cell_type": "markdown",
   "id": "8da8de9f",
   "metadata": {},
   "source": [
    "##### find unique number\n"
   ]
  },
  {
   "cell_type": "code",
   "execution_count": 1,
   "id": "0b81ca49",
   "metadata": {},
   "outputs": [],
   "source": [
    "num = [6,1,3,4,3,1,6]"
   ]
  },
  {
   "cell_type": "code",
   "execution_count": 2,
   "id": "91d40972",
   "metadata": {},
   "outputs": [
    {
     "name": "stdout",
     "output_type": "stream",
     "text": [
      "4\n"
     ]
    }
   ],
   "source": [
    "answer = 0\n",
    "for n in num:\n",
    "    answer = answer ^ n\n",
    "print(answer)"
   ]
  },
  {
   "cell_type": "markdown",
   "id": "ca514d73",
   "metadata": {},
   "source": [
    "##### Find Duplicate\n"
   ]
  },
  {
   "cell_type": "code",
   "execution_count": 3,
   "id": "5b98f9ec",
   "metadata": {},
   "outputs": [],
   "source": [
    "n = 9 \n",
    "nums = [0,7,2,5,4,7,1,3,6]"
   ]
  },
  {
   "cell_type": "code",
   "execution_count": 4,
   "id": "593a7bb9",
   "metadata": {},
   "outputs": [
    {
     "name": "stdout",
     "output_type": "stream",
     "text": [
      "Duplicate is : 7.0\n"
     ]
    }
   ],
   "source": [
    "sum = 0\n",
    "for num in nums:\n",
    "    sum = sum + num\n",
    "sum2 = ((n-2)*(n-1))/2\n",
    "print(f\"Duplicate is : {sum-sum2}\")"
   ]
  },
  {
   "cell_type": "markdown",
   "id": "13271019",
   "metadata": {},
   "source": [
    "##### Rotate Array by d times :"
   ]
  },
  {
   "cell_type": "markdown",
   "id": "c075efc6",
   "metadata": {},
   "source": [
    "Type : 1"
   ]
  },
  {
   "cell_type": "code",
   "execution_count": 5,
   "id": "0f9f7822",
   "metadata": {},
   "outputs": [],
   "source": [
    "nums = [2,6,3,1,5,9,8]\n",
    "d = 2"
   ]
  },
  {
   "cell_type": "code",
   "execution_count": 6,
   "id": "1180077a",
   "metadata": {},
   "outputs": [
    {
     "name": "stdout",
     "output_type": "stream",
     "text": [
      "[3, 1, 5, 9, 8, 2, 6]\n"
     ]
    }
   ],
   "source": [
    "for i in range(d):\n",
    "    temp = nums[0]\n",
    "    for j in range(len(nums)-1):\n",
    "        nums[j]=nums[j+1]\n",
    "    nums[-1]=temp\n",
    "print(nums)    \n"
   ]
  },
  {
   "cell_type": "markdown",
   "id": "02d918ed",
   "metadata": {},
   "source": [
    "Type : 2"
   ]
  },
  {
   "cell_type": "code",
   "execution_count": 7,
   "id": "cf3b5a31",
   "metadata": {},
   "outputs": [],
   "source": [
    "nums = [2,6,3,1,5,9,8]\n",
    "d = 2"
   ]
  },
  {
   "cell_type": "code",
   "execution_count": 8,
   "id": "d2f23c10",
   "metadata": {},
   "outputs": [
    {
     "name": "stdout",
     "output_type": "stream",
     "text": [
      "[3, 1, 5, 9, 8, 2, 6]\n"
     ]
    }
   ],
   "source": [
    "n1 = nums[:d]\n",
    "n2 = nums[d:]\n",
    "print(n2+n1)"
   ]
  },
  {
   "cell_type": "markdown",
   "id": "feb500e2",
   "metadata": {},
   "source": [
    "Type : 3"
   ]
  },
  {
   "cell_type": "code",
   "execution_count": 9,
   "id": "cfbec58e",
   "metadata": {},
   "outputs": [],
   "source": [
    "nums = [2,6,3,1,5,9,8]\n",
    "d = 2"
   ]
  },
  {
   "cell_type": "code",
   "execution_count": 10,
   "id": "bb403462",
   "metadata": {},
   "outputs": [
    {
     "name": "stdout",
     "output_type": "stream",
     "text": [
      "[8, 9, 5, 1, 3, 6, 2]\n",
      "[3, 1, 5, 9, 8, 2, 6]\n"
     ]
    }
   ],
   "source": [
    "num = nums[::-1]\n",
    "print(num)\n",
    "n = len(num)-d\n",
    "num1 = num[0:n][::-1]+num[n:][::-1]\n",
    "print(num1)"
   ]
  },
  {
   "cell_type": "markdown",
   "id": "ec4e7c14",
   "metadata": {},
   "source": [
    "##### Pair Sum"
   ]
  },
  {
   "cell_type": "code",
   "execution_count": 11,
   "id": "4c662f02",
   "metadata": {},
   "outputs": [
    {
     "name": "stdout",
     "output_type": "stream",
     "text": [
      "[(1, 6), (2, 5), (3, 4), (4, 3), (5, 2), (3, 4)] 6\n"
     ]
    }
   ],
   "source": [
    "lst = [1,3,6,2,5,4,3,2,4]\n",
    "# lst = [2,8,10,5,-2,5]\n",
    "K = 7\n",
    "res = []\n",
    "while lst:\n",
    "    num = lst.pop()\n",
    "    diff = K - num\n",
    "    if diff in lst:\n",
    "        res.append((diff, num))\n",
    "\n",
    "res.reverse()\n",
    "print(res, len(res))"
   ]
  },
  {
   "cell_type": "markdown",
   "id": "d2b7df8c",
   "metadata": {},
   "source": [
    "##### Triplet Sum"
   ]
  },
  {
   "cell_type": "code",
   "execution_count": 12,
   "id": "f7457ef8",
   "metadata": {},
   "outputs": [],
   "source": [
    "A = [2 ,-5, 8 ,-6, 0, 5, 10, 11, -3]\n",
    "sum = 10\n",
    "arr_size = len(A)"
   ]
  },
  {
   "cell_type": "code",
   "execution_count": 13,
   "id": "eca57f4e",
   "metadata": {},
   "outputs": [
    {
     "name": "stdout",
     "output_type": "stream",
     "text": [
      "[(2, 8, 0), (2, 11, -3), (-5, 5, 10), (8, 5, -3), (-6, 5, 11)] 5\n"
     ]
    }
   ],
   "source": [
    "res = []\n",
    "for i in range( 0, arr_size-2):\n",
    "\n",
    "    # Fix the second element as A[j]\n",
    "    for j in range(i + 1, arr_size-1):\n",
    "\n",
    "        # Now look for the third number\n",
    "        for k in range(j + 1, arr_size):\n",
    "            if A[i] + A[j] + A[k] == sum:\n",
    "                res.append((A[i],A[j],A[k]))\n",
    "\n",
    "# If we reach here, then no\n",
    "# triplet was found\n",
    "print(res, len(res))"
   ]
  },
  {
   "cell_type": "markdown",
   "id": "d20ec474",
   "metadata": {},
   "source": [
    "##### Recursive exponential"
   ]
  },
  {
   "cell_type": "code",
   "execution_count": 14,
   "id": "51cb0bc0",
   "metadata": {},
   "outputs": [],
   "source": [
    "def power(x,n):\n",
    "    if x == 0:\n",
    "        return 0\n",
    "    if n== 0:\n",
    "        return 1\n",
    "    if n%2==0:\n",
    "        return power(x,n//2)* power(x,n//2)\n",
    "    else:\n",
    "        return power(x,n//2)*power(x,n//2)*x            \n",
    "                     "
   ]
  },
  {
   "cell_type": "code",
   "execution_count": 15,
   "id": "12cef129",
   "metadata": {},
   "outputs": [
    {
     "data": {
      "text/plain": [
       "32"
      ]
     },
     "execution_count": 15,
     "metadata": {},
     "output_type": "execute_result"
    }
   ],
   "source": [
    "x = 2\n",
    "n = 5\n",
    "power(x,n)"
   ]
  },
  {
   "cell_type": "markdown",
   "id": "1ca1faf6",
   "metadata": {},
   "source": [
    "##### Array Intersection"
   ]
  },
  {
   "cell_type": "code",
   "execution_count": 16,
   "id": "31661f3f",
   "metadata": {},
   "outputs": [],
   "source": [
    "def merge(a,a1,a2):\n",
    "    i= 0\n",
    "    j=0\n",
    "    k=0\n",
    "    while i<len(a1) and j <len(a2):\n",
    "        if a1[i]<a2[j]:\n",
    "            a[k]=a1[i]\n",
    "            i+=1\n",
    "            k+=1\n",
    "        else:\n",
    "            a[k]=a2[j]\n",
    "            j+=1\n",
    "            k+=1\n",
    "    while i< len(a1) :\n",
    "        a[k]=a1[i]\n",
    "        i+=1\n",
    "        k+=1\n",
    "    while j <len(a2):\n",
    "        a[k]=a2[j]\n",
    "        j+=1\n",
    "        k+=1   "
   ]
  },
  {
   "cell_type": "code",
   "execution_count": 17,
   "id": "f5c9d2ea",
   "metadata": {},
   "outputs": [],
   "source": [
    "def mergeSort(a):\n",
    "    if len(a)==1:\n",
    "        return a\n",
    "    mid = len(a)//2\n",
    "    a1 = a[:mid]\n",
    "    a2 = a[mid:]\n",
    "    mergeSort(a1)\n",
    "    mergeSort(a2)\n",
    "    return merge(a,a1,a2)"
   ]
  },
  {
   "cell_type": "code",
   "execution_count": 18,
   "id": "316fa07e",
   "metadata": {},
   "outputs": [],
   "source": [
    "def intersection(a,a1,a2):\n",
    "    i = 0\n",
    "    j = 0\n",
    "    while i < len(a1) and j < len(a2):\n",
    "        if a1[i]<a2[j]:\n",
    "            i+=1\n",
    "        elif a1[i]>a2[j]:\n",
    "            j+=1\n",
    "        else:\n",
    "            a.append(a2[j])\n",
    "            i+=1\n",
    "            j+=1\n",
    "    return a\n",
    "    "
   ]
  },
  {
   "cell_type": "code",
   "execution_count": 19,
   "id": "3cd8d813",
   "metadata": {},
   "outputs": [],
   "source": [
    "def binarySearch(a,x,si,ei):\n",
    "    if si>ei:\n",
    "        return \n",
    "    mid = (si+ei)//2\n",
    "    if a[mid]==x:\n",
    "        return mid\n",
    "    elif a[mid]>x:\n",
    "        return binarySearch(a,x,si,mid-1)\n",
    "    else:\n",
    "        return binarySearch(a,x,mid+1,ei)"
   ]
  },
  {
   "cell_type": "code",
   "execution_count": 20,
   "id": "e06aadfd",
   "metadata": {},
   "outputs": [],
   "source": [
    "A1 = [6,2,6,1,9,8]\n",
    "A2 = [3,6,8,2,9]\n",
    "A=[]"
   ]
  },
  {
   "cell_type": "code",
   "execution_count": 21,
   "id": "4b7f4f21",
   "metadata": {},
   "outputs": [],
   "source": [
    "mergeSort(A1)\n",
    "mergeSort(A2)"
   ]
  },
  {
   "cell_type": "code",
   "execution_count": 22,
   "id": "bd29d750",
   "metadata": {},
   "outputs": [
    {
     "data": {
      "text/plain": [
       "[2, 6, 8, 9]"
      ]
     },
     "execution_count": 22,
     "metadata": {},
     "output_type": "execute_result"
    }
   ],
   "source": [
    "intersection(A,A1,A2)"
   ]
  },
  {
   "cell_type": "markdown",
   "id": "b420a6ad",
   "metadata": {},
   "source": [
    "##### Equilibrium"
   ]
  },
  {
   "cell_type": "code",
   "execution_count": 23,
   "id": "49520062",
   "metadata": {},
   "outputs": [],
   "source": [
    "def sumArray(a):\n",
    "    if len(a)==0:\n",
    "        return 0\n",
    "    restSum = sumArray(a[1:])\n",
    "    return a[0] + restSum"
   ]
  },
  {
   "cell_type": "code",
   "execution_count": 24,
   "id": "02c9990d",
   "metadata": {},
   "outputs": [
    {
     "data": {
      "text/plain": [
       "22"
      ]
     },
     "execution_count": 24,
     "metadata": {},
     "output_type": "execute_result"
    }
   ],
   "source": [
    "a = [2,1,5,4,8,2]\n",
    "ans = sumArray(a)\n",
    "ans"
   ]
  },
  {
   "cell_type": "code",
   "execution_count": 34,
   "id": "5e44189c",
   "metadata": {},
   "outputs": [],
   "source": [
    "def equilibrium(a,totalSum):\n",
    "    leftSum = 0\n",
    "    idx = 0\n",
    "    while idx<len(a):\n",
    "        rightSum = totalSum - leftSum - a[idx]\n",
    "        if leftSum == rightSum:\n",
    "            return idx\n",
    "        else:\n",
    "            leftSum = leftSum + a[idx]\n",
    "        idx = idx +1\n",
    "    return -1"
   ]
  },
  {
   "cell_type": "code",
   "execution_count": 37,
   "id": "6c5b3cd9",
   "metadata": {},
   "outputs": [],
   "source": [
    "#a = [2,1,5,4,8,2]\n",
    "a = [1,3,4,2,2,5,4,1]\n",
    "ans = sumArray(a)"
   ]
  },
  {
   "cell_type": "code",
   "execution_count": 38,
   "id": "633bff17",
   "metadata": {},
   "outputs": [
    {
     "data": {
      "text/plain": [
       "4"
      ]
     },
     "execution_count": 38,
     "metadata": {},
     "output_type": "execute_result"
    }
   ],
   "source": [
    "equilibrium(a,ans)"
   ]
  },
  {
   "cell_type": "code",
   "execution_count": null,
   "id": "97439514",
   "metadata": {},
   "outputs": [],
   "source": []
  }
 ],
 "metadata": {
  "kernelspec": {
   "display_name": "Python 3 (ipykernel)",
   "language": "python",
   "name": "python3"
  },
  "language_info": {
   "codemirror_mode": {
    "name": "ipython",
    "version": 3
   },
   "file_extension": ".py",
   "mimetype": "text/x-python",
   "name": "python",
   "nbconvert_exporter": "python",
   "pygments_lexer": "ipython3",
   "version": "3.11.1"
  }
 },
 "nbformat": 4,
 "nbformat_minor": 5
}
