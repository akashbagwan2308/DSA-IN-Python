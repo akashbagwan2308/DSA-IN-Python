{
 "cells": [
  {
   "cell_type": "markdown",
   "id": "dcc8997c",
   "metadata": {},
   "source": [
    "# Assignment Stack"
   ]
  },
  {
   "cell_type": "markdown",
   "id": "c2fa3413",
   "metadata": {},
   "source": [
    "Redundant brackets"
   ]
  },
  {
   "cell_type": "markdown",
   "id": "dd6f908c",
   "metadata": {},
   "source": [
    "Non - Redundant Pair : ( a + b )"
   ]
  },
  {
   "cell_type": "markdown",
   "id": "13d297a1",
   "metadata": {},
   "source": [
    "Redundant Pair : ((a+b))"
   ]
  },
  {
   "cell_type": "code",
   "execution_count": 13,
   "id": "a05297e4",
   "metadata": {},
   "outputs": [],
   "source": [
    "def redundant(exp):\n",
    "    s = []\n",
    "    count = 0\n",
    "    for i in range(len(exp)):\n",
    "        if exp[i] == ')':\n",
    "            top = s[-1]\n",
    "            while top != '(':\n",
    "                s.pop()\n",
    "                top = s[-1]\n",
    "                count += 1\n",
    "            if i != len(exp)-1:\n",
    "                s.pop()\n",
    "                count = 0\n",
    "        else:\n",
    "            s.append(exp[i])\n",
    "    if count > 1:\n",
    "        return False\n",
    "    else:\n",
    "        return True "
   ]
  },
  {
   "cell_type": "code",
   "execution_count": 14,
   "id": "50878e02",
   "metadata": {},
   "outputs": [
    {
     "name": "stdout",
     "output_type": "stream",
     "text": [
      "Enter your expression : ((a+b))\n",
      "True\n"
     ]
    }
   ],
   "source": [
    "exp = input(\"Enter your expression : \")\n",
    "print(redundant(exp))"
   ]
  },
  {
   "cell_type": "code",
   "execution_count": null,
   "id": "c85c608d",
   "metadata": {},
   "outputs": [],
   "source": []
  }
 ],
 "metadata": {
  "kernelspec": {
   "display_name": "Python 3 (ipykernel)",
   "language": "python",
   "name": "python3"
  },
  "language_info": {
   "codemirror_mode": {
    "name": "ipython",
    "version": 3
   },
   "file_extension": ".py",
   "mimetype": "text/x-python",
   "name": "python",
   "nbconvert_exporter": "python",
   "pygments_lexer": "ipython3",
   "version": "3.11.1"
  }
 },
 "nbformat": 4,
 "nbformat_minor": 5
}
