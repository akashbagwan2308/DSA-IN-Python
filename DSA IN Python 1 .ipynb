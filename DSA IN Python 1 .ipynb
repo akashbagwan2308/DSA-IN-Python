{
 "cells": [
  {
   "cell_type": "markdown",
   "id": "dc0eee27",
   "metadata": {},
   "source": [
    "# DSA in Python :"
   ]
  },
  {
   "cell_type": "markdown",
   "id": "c2dcd992",
   "metadata": {},
   "source": [
    "Data Structures are building block or raw material for any software"
   ]
  },
  {
   "cell_type": "markdown",
   "id": "d0cb0514",
   "metadata": {},
   "source": [
    "Use right data structure for a problem"
   ]
  },
  {
   "cell_type": "markdown",
   "id": "e4b4f7a3",
   "metadata": {},
   "source": [
    "Data structure are the containers storing data in a specific memory layout"
   ]
  },
  {
   "cell_type": "code",
   "execution_count": null,
   "id": "0ecc5f7d",
   "metadata": {},
   "outputs": [],
   "source": []
  },
  {
   "cell_type": "code",
   "execution_count": null,
   "id": "73621877",
   "metadata": {},
   "outputs": [],
   "source": []
  }
 ],
 "metadata": {
  "kernelspec": {
   "display_name": "Python 3 (ipykernel)",
   "language": "python",
   "name": "python3"
  },
  "language_info": {
   "codemirror_mode": {
    "name": "ipython",
    "version": 3
   },
   "file_extension": ".py",
   "mimetype": "text/x-python",
   "name": "python",
   "nbconvert_exporter": "python",
   "pygments_lexer": "ipython3",
   "version": "3.11.1"
  }
 },
 "nbformat": 4,
 "nbformat_minor": 5
}
