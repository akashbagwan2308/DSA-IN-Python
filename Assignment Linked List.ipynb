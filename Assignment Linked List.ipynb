{
 "cells": [
  {
   "cell_type": "markdown",
   "id": "c758088e",
   "metadata": {},
   "source": [
    "# Assignment Linked List"
   ]
  },
  {
   "cell_type": "code",
   "execution_count": 1,
   "id": "185e12f4",
   "metadata": {},
   "outputs": [],
   "source": [
    "class Node:\n",
    "    def __init__(self,data):\n",
    "        self.data = data\n",
    "        self.next = None"
   ]
  },
  {
   "cell_type": "code",
   "execution_count": 2,
   "id": "36f432aa",
   "metadata": {},
   "outputs": [],
   "source": [
    "# take input\n",
    "def takeinput():\n",
    "    inputList = [int(ele) for ele in input().split()]\n",
    "    head = None\n",
    "    tail = None\n",
    "    for currdata in inputList:\n",
    "        if currdata == -1:\n",
    "            break\n",
    "        newNode = Node(currdata)\n",
    "        if head is  None:\n",
    "            head = newNode\n",
    "            tail = newNode\n",
    "        else:\n",
    "            tail.next = newNode\n",
    "            tail = newNode\n",
    "    return head"
   ]
  },
  {
   "cell_type": "code",
   "execution_count": 3,
   "id": "edc5781a",
   "metadata": {},
   "outputs": [],
   "source": [
    "def printll(head):\n",
    "    while head is not None:\n",
    "        print(head.data,\"-> \",end =\"\")\n",
    "        head = head.next\n",
    "    print(\"None\")\n",
    "    return"
   ]
  },
  {
   "cell_type": "code",
   "execution_count": 11,
   "id": "7bfa4061",
   "metadata": {},
   "outputs": [],
   "source": [
    "def length(head):\n",
    "    length = 0\n",
    "    while head is not None:\n",
    "        length += 1\n",
    "        head = head.next\n",
    "    return length"
   ]
  },
  {
   "cell_type": "code",
   "execution_count": 4,
   "id": "d74e07c7",
   "metadata": {},
   "outputs": [
    {
     "name": "stdout",
     "output_type": "stream",
     "text": [
      "3 4 5 2 6 1 9 -1\n",
      "3 -> 4 -> 5 -> 2 -> 6 -> 1 -> 9 -> None\n"
     ]
    }
   ],
   "source": [
    "#head = takeinput()\n",
    "#printll(head)"
   ]
  },
  {
   "cell_type": "markdown",
   "id": "421e3751",
   "metadata": {},
   "source": [
    "### Find the node"
   ]
  },
  {
   "cell_type": "code",
   "execution_count": 7,
   "id": "46108b6c",
   "metadata": {},
   "outputs": [],
   "source": [
    "def findNode(head,num):\n",
    "    idx = 0\n",
    "    while head is not None:\n",
    "        if head.data == num:\n",
    "            return idx\n",
    "        head = head.next\n",
    "        idx +=1\n",
    "    return -1    "
   ]
  },
  {
   "cell_type": "code",
   "execution_count": 10,
   "id": "8c794f7a",
   "metadata": {},
   "outputs": [
    {
     "name": "stdout",
     "output_type": "stream",
     "text": [
      "2\n"
     ]
    }
   ],
   "source": [
    "print(findNode(head,5))"
   ]
  },
  {
   "cell_type": "markdown",
   "id": "e1f390a0",
   "metadata": {},
   "source": [
    "### Append last N to first"
   ]
  },
  {
   "cell_type": "code",
   "execution_count": 68,
   "id": "286f4688",
   "metadata": {},
   "outputs": [],
   "source": [
    "def appendN(head,n):\n",
    "    Len = length(head)\n",
    "    head1 = head\n",
    "    curr = 1\n",
    "    while curr < Len-n:\n",
    "        curr = curr+1\n",
    "        head = head.next\n",
    "    head2 = head.next\n",
    "    tail = head.next\n",
    "    head.next = None\n",
    "    while curr < Len-1:\n",
    "        curr = curr +1\n",
    "        tail=tail.next\n",
    "    tail.next = head1\n",
    "    return head2    "
   ]
  },
  {
   "cell_type": "code",
   "execution_count": 71,
   "id": "59d8c51c",
   "metadata": {},
   "outputs": [
    {
     "name": "stdout",
     "output_type": "stream",
     "text": [
      "1 2 3 4 5 -1\n",
      "1 -> 2 -> 3 -> 4 -> 5 -> None\n"
     ]
    }
   ],
   "source": [
    "# head = takeinput()\n",
    "# printll(head)"
   ]
  },
  {
   "cell_type": "code",
   "execution_count": 72,
   "id": "91f60a9d",
   "metadata": {},
   "outputs": [
    {
     "name": "stdout",
     "output_type": "stream",
     "text": [
      "4 -> 5 -> 1 -> 2 -> 3 -> None\n"
     ]
    }
   ],
   "source": [
    "printll(appendN(head,2))"
   ]
  },
  {
   "cell_type": "markdown",
   "id": "2979637a",
   "metadata": {},
   "source": [
    "### Remove Duplicates"
   ]
  },
  {
   "cell_type": "code",
   "execution_count": 73,
   "id": "5a83fdc6",
   "metadata": {},
   "outputs": [],
   "source": [
    "def removeDuplicate(head):\n",
    "    currNode = head\n",
    "    while currNode is not None:\n",
    "        nextNode = currNode.next\n",
    "        if(nextNode is None or nextNode.data != currNode.data):\n",
    "            currNode = nextNode\n",
    "        else:\n",
    "            currNode.next = nextNode.next\n",
    "    return head           "
   ]
  },
  {
   "cell_type": "code",
   "execution_count": 121,
   "id": "94e010fb",
   "metadata": {},
   "outputs": [
    {
     "name": "stdout",
     "output_type": "stream",
     "text": [
      "1 2 3 3 4 4 5 5 5 6 6 7 -1\n",
      "1 -> 2 -> 3 -> 3 -> 4 -> 4 -> 5 -> 5 -> 5 -> 6 -> 6 -> 7 -> None\n"
     ]
    }
   ],
   "source": [
    "head = takeinput()\n",
    "printll(head)"
   ]
  },
  {
   "cell_type": "code",
   "execution_count": 122,
   "id": "53b4e7de",
   "metadata": {},
   "outputs": [
    {
     "name": "stdout",
     "output_type": "stream",
     "text": [
      "1 -> 2 -> 3 -> 4 -> 5 -> 6 -> 7 -> None\n"
     ]
    }
   ],
   "source": [
    "printll(removeDuplicate(head))"
   ]
  },
  {
   "cell_type": "markdown",
   "id": "28af5107",
   "metadata": {},
   "source": [
    "### Reverse LL "
   ]
  },
  {
   "cell_type": "code",
   "execution_count": 123,
   "id": "8b8fe0a7",
   "metadata": {},
   "outputs": [],
   "source": [
    "def reverseLL(head):\n",
    "    if head is None or head.next is None:\n",
    "        return head \n",
    "    smallhead = reverseLL(head.next)\n",
    "    curr = smallhead\n",
    "    while curr.next is not None:\n",
    "        curr = curr.next\n",
    "    curr.next = head\n",
    "    head.next = None\n",
    "    return smallhead "
   ]
  },
  {
   "cell_type": "code",
   "execution_count": 124,
   "id": "cb00ae6b",
   "metadata": {},
   "outputs": [
    {
     "name": "stdout",
     "output_type": "stream",
     "text": [
      "7 -> 6 -> 5 -> 4 -> 3 -> 2 -> 1 -> None\n"
     ]
    }
   ],
   "source": [
    "printll(reverseLL(head))"
   ]
  },
  {
   "cell_type": "markdown",
   "id": "1e4a36a5",
   "metadata": {},
   "source": [
    "### Reverse LL in optimal way"
   ]
  },
  {
   "cell_type": "code",
   "execution_count": 125,
   "id": "1ababf4f",
   "metadata": {},
   "outputs": [],
   "source": [
    "def reversell2(head):\n",
    "    if head is None or head.next is None:\n",
    "        return head,head\n",
    "    smallhead,smalltail = reversell2(head.next)\n",
    "    smalltail.next = head\n",
    "    head.next = None\n",
    "    return smallhead,head   "
   ]
  },
  {
   "cell_type": "code",
   "execution_count": 127,
   "id": "4c48e488",
   "metadata": {},
   "outputs": [
    {
     "name": "stdout",
     "output_type": "stream",
     "text": [
      "1 2 3 4 5 -1\n",
      "1 -> 2 -> 3 -> 4 -> 5 -> None\n"
     ]
    }
   ],
   "source": [
    "head = takeinput()\n",
    "printll(head)"
   ]
  },
  {
   "cell_type": "code",
   "execution_count": 128,
   "id": "d1c385d8",
   "metadata": {},
   "outputs": [
    {
     "name": "stdout",
     "output_type": "stream",
     "text": [
      "5 -> 4 -> 3 -> 2 -> 1 -> None\n"
     ]
    }
   ],
   "source": [
    "head,tail = reversell2(head)\n",
    "printll(head)"
   ]
  },
  {
   "cell_type": "markdown",
   "id": "524c0c6a",
   "metadata": {},
   "source": [
    "### Reverse LL in much optimal way"
   ]
  },
  {
   "cell_type": "code",
   "execution_count": 129,
   "id": "1f8428fa",
   "metadata": {},
   "outputs": [],
   "source": [
    "def reversell3(head):\n",
    "    if head is None or head.next is None:\n",
    "        return head\n",
    "    smallhead= reversell3(head.next)\n",
    "    tail = head.next\n",
    "    tail.next = head\n",
    "    head.next = None\n",
    "    return smallhead"
   ]
  },
  {
   "cell_type": "code",
   "execution_count": 132,
   "id": "803bf315",
   "metadata": {},
   "outputs": [
    {
     "name": "stdout",
     "output_type": "stream",
     "text": [
      "1 2 3 4 5 -1\n",
      "1 -> 2 -> 3 -> 4 -> 5 -> None\n"
     ]
    }
   ],
   "source": [
    "head = takeinput()\n",
    "printll(head)"
   ]
  },
  {
   "cell_type": "code",
   "execution_count": 133,
   "id": "96b9b32c",
   "metadata": {},
   "outputs": [
    {
     "name": "stdout",
     "output_type": "stream",
     "text": [
      "5 -> 4 -> 3 -> 2 -> 1 -> None\n"
     ]
    }
   ],
   "source": [
    "head= reversell3(head)\n",
    "printll(head)"
   ]
  },
  {
   "cell_type": "markdown",
   "id": "b453c0cd",
   "metadata": {},
   "source": [
    "### Reverse LL iteratively"
   ]
  },
  {
   "cell_type": "code",
   "execution_count": 135,
   "id": "954c2649",
   "metadata": {},
   "outputs": [],
   "source": [
    "def reverseLL4(head):\n",
    "    pre = None\n",
    "    cur = head\n",
    "    while cur is not None:\n",
    "        nex = cur.next\n",
    "        cur.next = pre\n",
    "        pre = cur\n",
    "        cur = nex\n",
    "    return pre        "
   ]
  },
  {
   "cell_type": "code",
   "execution_count": 137,
   "id": "400628fd",
   "metadata": {},
   "outputs": [
    {
     "name": "stdout",
     "output_type": "stream",
     "text": [
      "1 2 3 4 5 6 7 8 -1\n",
      "1 -> 2 -> 3 -> 4 -> 5 -> 6 -> 7 -> 8 -> None\n",
      "8 -> 7 -> 6 -> 5 -> 4 -> 3 -> 2 -> 1 -> None\n"
     ]
    }
   ],
   "source": [
    "head = takeinput()\n",
    "printll(head)\n",
    "head= reverseLL4(head)\n",
    "printll(head)"
   ]
  },
  {
   "cell_type": "code",
   "execution_count": null,
   "id": "84e8c023",
   "metadata": {},
   "outputs": [],
   "source": []
  }
 ],
 "metadata": {
  "kernelspec": {
   "display_name": "Python 3 (ipykernel)",
   "language": "python",
   "name": "python3"
  },
  "language_info": {
   "codemirror_mode": {
    "name": "ipython",
    "version": 3
   },
   "file_extension": ".py",
   "mimetype": "text/x-python",
   "name": "python",
   "nbconvert_exporter": "python",
   "pygments_lexer": "ipython3",
   "version": "3.11.1"
  }
 },
 "nbformat": 4,
 "nbformat_minor": 5
}
